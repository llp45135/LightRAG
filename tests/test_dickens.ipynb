{
 "cells": [
  {
   "cell_type": "markdown",
   "metadata": {},
   "source": [
    "# Test Dickens\n",
    "This notebook replicates the functionality of the `test_ollama.py` script."
   ]
  },
  {
   "cell_type": "code",
   "execution_count": 1,
   "metadata": {},
   "outputs": [
    {
     "name": "stdout",
     "output_type": "stream",
     "text": [
      "Looking in indexes: https://mirrors.cloud.tencent.com/pypi/simple\n"
     ]
    },
    {
     "name": "stderr",
     "output_type": "stream",
     "text": [
      "\u001b[31mERROR: Could not find a version that satisfies the requirement lmdeploy (from versions: none)\u001b[0m\u001b[31m\n",
      "\u001b[0m\u001b[31mERROR: No matching distribution found for lmdeploy\u001b[0m\u001b[31m\n",
      "\u001b[0m"
     ]
    }
   ],
   "source": [
    "import os\n",
    "from lightrag import LightRAG, QueryParam\n",
    "from lightrag.llm.openai import gpt_4o_mini_complete, gpt_4o_complete, openai_embed\n",
    "from lightrag.llm.ollama import ollama_model_complete, ollama_embed\n",
    "from lightrag.llm.siliconcloud import siliconcloud_embedding\n",
    "from lightrag.utils import EmbeddingFunc\n",
    "import asyncio\n",
    "from lightrag import LightRAG, QueryParam\n",
    "from lightrag.llm.openai import openai_complete_if_cache\n",
    "from lightrag.llm.siliconcloud import siliconcloud_embedding\n",
    "from lightrag.utils import EmbeddingFunc\n",
    "import numpy as np\n",
    "\n",
    "\n",
    "# Uncomment the below two lines if running in a jupyter notebook to handle the async nature of rag.insert()\n",
    "import nest_asyncio\n",
    "nest_asyncio.apply()"
   ]
  },
  {
   "cell_type": "code",
   "execution_count": 2,
   "metadata": {},
   "outputs": [
    {
     "data": {
      "text/plain": [
       "True"
      ]
     },
     "execution_count": 2,
     "metadata": {},
     "output_type": "execute_result"
    }
   ],
   "source": [
    "WORKING_DIR = \"./KG\"\n",
    "\n",
    "if not os.path.exists(WORKING_DIR):\n",
    "    os.mkdir(WORKING_DIR)\n",
    "\n",
    "# 在导入部分添加\n",
    "from dotenv import load_dotenv\n",
    "\n",
    "# 在代码的开头加载环境变量\n",
    "load_dotenv()"
   ]
  },
  {
   "cell_type": "code",
   "execution_count": 3,
   "id": "ed8b354e",
   "metadata": {},
   "outputs": [],
   "source": [
    "async def llm_model_func(\n",
    "    prompt, system_prompt=None, history_messages=[], keyword_extraction=False, **kwargs\n",
    ") -> str:\n",
    "    return await openai_complete_if_cache(\n",
    "        \"Qwen/Qwen2.5-7B-Instruct\",\n",
    "        prompt,\n",
    "        system_prompt=system_prompt,\n",
    "        history_messages=history_messages,\n",
    "        api_key=os.getenv(\"SILICONFLOW_API_KEY\"),\n",
    "        base_url=\"https://api.siliconflow.cn/v1/\",\n",
    "        **kwargs,\n",
    "    )\n",
    "\n",
    "\n",
    "async def embedding_func(texts: list[str]) -> np.ndarray:\n",
    "    return await siliconcloud_embedding(\n",
    "        texts,\n",
    "        model=\"netease-youdao/bce-embedding-base_v1\",\n",
    "        api_key=os.getenv(\"SILICONFLOW_API_KEY\"),\n",
    "        max_token_size=512,\n",
    "    )\n",
    "\n"
   ]
  },
  {
   "cell_type": "code",
   "execution_count": 4,
   "id": "f3334181",
   "metadata": {},
   "outputs": [
    {
     "name": "stdout",
     "output_type": "stream",
     "text": [
      "llm_model_func:  I'm just a digital entity, so I don't have feelings, but I'm here and ready to help you with any questions or tasks you might have! How can I assist you today?\n",
      "embedding_func:  [[ 3.82568017e-02  1.12520000e-02 -1.56639684e-02  1.11631686e-02\n",
      "   9.46056377e-03 -5.98626165e-03  9.40134283e-03 -9.31251049e-03\n",
      "  -1.66411158e-02 -1.13507025e-02 -5.73654622e-02 -9.91459191e-03\n",
      "   8.42518210e-02 -7.01275980e-03 -2.97092292e-02  8.16757046e-03\n",
      "   8.60185828e-03 -3.19793709e-02  1.01045927e-03  9.37173143e-03\n",
      "   7.17364401e-02 -1.39860390e-02  2.33725756e-02  3.42495106e-02\n",
      "   3.63617279e-02 -4.36508516e-03 -5.16703678e-03 -2.17760753e-04\n",
      "  -2.05546408e-03 -9.23354924e-03 -2.51294672e-02  1.53086428e-02\n",
      "   1.96317788e-02 -7.91588128e-02 -3.04593630e-02 -3.39040533e-03\n",
      "  -4.94298413e-02 -1.93159338e-02  1.10703893e-01  8.81209299e-02\n",
      "   2.80312989e-02  3.66380922e-02  2.40042675e-02 -3.75264063e-02\n",
      "  -3.78619954e-02  9.24095220e-04  9.65796690e-03 -2.00364571e-02\n",
      "   2.73009054e-02  2.68962281e-03  5.78639039e-04  2.07668506e-02\n",
      "  -1.32260355e-03  2.37476435e-02 -6.85385019e-02 -3.06765065e-02\n",
      "  -1.95232071e-02 -2.51294672e-02 -1.34727899e-02  1.22784991e-02\n",
      "  -3.10713127e-02 -5.93394972e-02  3.98360305e-02 -2.04115231e-02\n",
      "   6.51036799e-02 -7.65432138e-03 -3.11700143e-02 -6.36132807e-03\n",
      "  -7.83198420e-03  5.14828376e-02 -1.65325440e-02 -4.48105969e-02\n",
      "  -2.43201125e-02 -5.04168570e-02 -1.29694110e-02  2.08260715e-02\n",
      "  -1.97206102e-02  3.80396582e-02  9.64809675e-04  1.50816282e-02\n",
      "   1.25252530e-02 -3.26702818e-02  1.17356386e-02 -3.45850959e-02\n",
      "  -6.77094050e-03  2.82287016e-03 -1.45486388e-02  7.34834606e-03\n",
      "   4.23233137e-02  2.90775374e-02 -2.68468782e-02 -3.79804373e-02\n",
      "   3.23939174e-02 -4.72189225e-02  1.91086605e-02  3.66923772e-03\n",
      "   1.87928155e-02 -2.29777694e-02  5.76911774e-03 -7.69084096e-02\n",
      "   3.25123593e-02 -2.03523021e-02  1.62561797e-02  8.16757046e-03\n",
      "   1.03913210e-01 -4.54817712e-02 -4.78086644e-04 -2.64125895e-02\n",
      "  -2.04115231e-02 -4.96272445e-02 -3.42248334e-03  6.99598044e-02\n",
      "   2.00364571e-02 -3.63617279e-02  3.68404319e-03 -3.55523713e-02\n",
      "  -4.15287632e-03 -8.89895037e-02  4.23627943e-02 -9.73692816e-03\n",
      "  -2.20697131e-02  2.26224437e-02  1.00034233e-02  2.06878874e-02\n",
      "   2.51294672e-02  2.06163293e-03 -4.01321352e-02 -2.18130890e-02\n",
      "  -1.84276178e-02  8.10341444e-03  1.33642182e-02  3.53154875e-02\n",
      "  -2.74390895e-02  3.05580646e-02 -2.91959792e-02 -1.19725233e-02\n",
      "   3.10120918e-02  2.66247988e-03 -2.93933842e-02  2.06484068e-02\n",
      "   4.24022749e-02  6.43535471e-03  4.29155231e-02  8.63146875e-03\n",
      "   3.78521229e-03 -7.06309751e-02  1.75442372e-03 -4.93113995e-02\n",
      "   5.45228496e-02  6.75909668e-02 -1.84572290e-03 -3.53747085e-02\n",
      "   3.25123593e-02  1.27621377e-02  4.90350313e-02  1.47164324e-02\n",
      "   7.65925646e-02 -4.26638359e-03 -6.53010830e-02  9.22861416e-03\n",
      "   6.68013468e-02  3.39287287e-03 -3.16635221e-02 -3.50391231e-02\n",
      "   2.20968551e-03  3.81383598e-02  2.96697486e-02  8.00273865e-02\n",
      "   1.77909923e-03 -8.74892399e-02 -6.32678252e-03 -3.32809985e-04\n",
      "  -6.90122694e-02 -2.43595932e-02 -1.06597897e-02 -1.67299481e-03\n",
      "  -1.89013872e-02  8.92017153e-04 -2.65310332e-02 -5.74444234e-02\n",
      "  -7.09863007e-02  4.66365786e-03  1.67595576e-02  5.82833868e-03\n",
      "   3.08344290e-02  4.42973487e-02  2.49123238e-02 -1.48743549e-02\n",
      "  -1.66805973e-03  5.32989502e-02  5.41379116e-03  3.51180844e-02\n",
      "  -2.28198469e-02 -1.70457941e-02  2.80510392e-02 -1.09282583e-01\n",
      "   4.59555387e-02 -1.65917650e-02 -3.48022394e-02  2.51097269e-02\n",
      "   1.35221407e-02  2.95513067e-02 -4.87586670e-02  1.93948951e-02\n",
      "   1.05018672e-02 -4.91929576e-02 -1.17257684e-02  2.10037343e-02\n",
      "  -2.80559738e-03  1.73320286e-02  4.44947518e-02 -1.83190461e-02\n",
      "   3.20533966e-03 -5.81846852e-03  3.02027371e-02  1.96909998e-02\n",
      "   1.51902009e-02 -6.05633967e-02  2.08852924e-02  1.01268003e-02\n",
      "   1.50026670e-02 -9.66783706e-03  4.84033413e-02 -4.42973487e-02\n",
      "  -3.14068981e-02  3.57300378e-02  3.25715803e-02  2.70442814e-02\n",
      "   3.28874253e-02 -5.13643958e-02 -1.35221407e-02  2.47544013e-02\n",
      "  -7.11146183e-03  2.14182809e-02 -1.89507380e-03  1.57231893e-02\n",
      "  -1.58120207e-02 -2.90972777e-02  3.15450802e-02 -6.63275793e-02\n",
      "   2.20104922e-02 -3.80199179e-02 -2.25237403e-02 -1.98094435e-02\n",
      "   2.61954460e-02 -3.05580646e-02  2.81892214e-02  1.23870708e-02\n",
      "  -5.57072721e-02 -9.24341939e-03  1.45430866e-04 -7.59510044e-03\n",
      "  -1.59403346e-02  1.08571937e-02 -1.54566951e-02  2.24052984e-02\n",
      "   2.60572648e-03 -5.68028633e-03  5.32594696e-02 -2.03523021e-02\n",
      "  -2.36094613e-02 -1.12618702e-02 -2.73798667e-02 -1.51211089e-02\n",
      "  -2.94723455e-02  5.60625978e-02  8.29884410e-02  7.67899677e-03\n",
      "  -2.53663510e-02 -2.41819303e-02 -1.55917936e-04 -2.60967445e-02\n",
      "   3.99742126e-02  6.94860369e-02 -6.07509306e-03 -3.66578326e-02\n",
      "   5.29041402e-02  4.08230461e-02  3.88884917e-03  3.68552357e-02\n",
      "  -5.75924758e-03 -5.50755812e-03  3.90661545e-02 -4.09020074e-02\n",
      "   4.09414880e-02 -3.88884917e-02 -2.61164848e-02 -2.75772717e-02\n",
      "   3.06765065e-02 -3.02619580e-02 -1.86052807e-02  8.70154724e-02\n",
      "  -3.29663861e-03  9.10523720e-03  3.47627588e-02  8.15276522e-03\n",
      "   8.34029820e-03 -4.67056707e-02  4.25207168e-02  4.44404641e-03\n",
      "   1.10447267e-02 -3.83949839e-02 -2.96598789e-03 -6.40377030e-02\n",
      "  -7.05224043e-03 -3.49799022e-02  6.58143312e-02  1.04192039e-03\n",
      "  -6.18860032e-03  3.71316001e-02 -2.11024359e-02  9.15952306e-03\n",
      "  -3.20780724e-02  1.15086250e-02 -2.02930812e-02 -2.32343934e-02\n",
      "   2.26421840e-02  5.28547913e-03  2.99066324e-02  1.14099234e-02\n",
      "   7.22373486e-04  1.01366704e-02 -3.71513404e-02 -3.82173210e-02\n",
      "   1.01268003e-02  7.19733238e-02  3.84147242e-02  9.29770526e-03\n",
      "   1.54073443e-02 -2.24842597e-02 -1.61179975e-02  5.55197382e-03\n",
      "   2.89196149e-02  3.62432860e-02 -3.68749760e-02  4.55212519e-02\n",
      "   3.21767740e-02 -1.10940775e-02  3.52957472e-02 -2.45964788e-02\n",
      "  -3.59077007e-02  4.84428219e-02  2.37081628e-02 -1.93060637e-02\n",
      "   5.10090664e-02  8.16757046e-03  9.34705604e-03  7.11442232e-02\n",
      "   4.24022749e-02 -2.95710471e-02 -1.57922809e-03 -2.18525697e-02\n",
      "   4.45737131e-02  4.15781140e-03  2.23460775e-02 -1.62734522e-03\n",
      "   3.59669216e-02 -3.18806693e-02 -1.91382710e-02 -1.17763539e-03\n",
      "  -4.67056707e-02 -2.04904843e-02 -3.10910530e-02  2.24842597e-02\n",
      "  -5.27856983e-02  1.24265514e-02 -1.08966744e-02  3.44271734e-02\n",
      "  -1.90099590e-02  2.68468782e-02  4.12968136e-02 -1.25055127e-02\n",
      "   5.66548072e-02  1.70556642e-02 -8.13795999e-03 -8.87822267e-03\n",
      "   1.68780014e-02  4.58469661e-03 -5.22724502e-02  4.46921550e-02\n",
      "   1.79933310e-02 -1.12717403e-02  3.32624931e-03 -2.21289340e-02\n",
      "   7.59016536e-03  2.62151863e-02 -3.45949666e-03 -5.37727177e-02\n",
      "   5.29436246e-02  2.24250387e-02 -4.52843681e-02  7.55068427e-03\n",
      "  -8.86835251e-03 -5.78392297e-02 -2.05423031e-03  2.79523376e-02\n",
      "   9.15458798e-03  7.02756494e-02  1.09460251e-02 -4.14942205e-02\n",
      "  -6.75120056e-02  2.93144211e-02 -4.78111319e-02  1.95725579e-02\n",
      "   1.52494218e-02 -5.29041402e-02 -9.83933103e-04  1.92764532e-02\n",
      "  -1.98328838e-04 -3.97175886e-02 -1.00873196e-02  1.82795655e-02\n",
      "   1.21995369e-02  2.88603939e-02 -8.00964795e-03 -3.24926190e-02\n",
      "  -3.07159871e-02  2.58351839e-03 -2.33133547e-02 -2.20499728e-02\n",
      "   6.91405823e-03 -1.30286319e-02 -1.52370834e-04 -1.70063134e-02\n",
      "  -5.59441559e-02 -2.28593275e-02 -4.64885263e-03  1.40650002e-02\n",
      "  -7.74808787e-03  5.21145295e-03 -2.76364926e-02  1.37491552e-02\n",
      "  -6.09976845e-03 -5.35753146e-02 -3.01435161e-02  6.26756158e-03\n",
      "   3.71710807e-02  2.69209035e-03 -1.10052461e-02  1.40353898e-02\n",
      "  -2.86235102e-02  1.47312367e-03 -2.77351937e-03  3.24136578e-02\n",
      "  -3.08344290e-02  3.91253754e-02 -1.35912318e-02 -6.03067735e-03\n",
      "  -4.36261781e-02  1.20317442e-02  4.67352802e-03  5.22329696e-02\n",
      "   3.10663786e-03 -2.28494569e-03  1.44659760e-04 -3.38152237e-02\n",
      "   4.57581356e-02 -5.59836365e-02  1.28904497e-02 -6.30506799e-02\n",
      "  -1.11532984e-02  2.49320641e-02 -5.63784428e-02 -5.62600009e-02\n",
      "  -2.40240078e-02 -9.83069465e-03  3.05383243e-02  1.12717403e-02\n",
      "   1.48644848e-02  2.10629553e-02 -2.50899866e-02 -2.40634885e-02\n",
      "   9.72212292e-03 -8.65416974e-02 -4.49685194e-02  3.07357274e-02\n",
      "  -3.03014391e-03  8.28305185e-02 -8.03432334e-03 -1.70359239e-02\n",
      "   5.56677915e-02  4.01962921e-03 -3.81383598e-02  2.17760750e-03\n",
      "   6.10371679e-02  1.09361550e-02 -4.13362943e-02  6.73935637e-02\n",
      "   2.92749405e-02 -5.45623302e-02  6.11950904e-02 -1.11138178e-02\n",
      "   5.92210563e-03 -4.12178524e-02 -5.33779114e-02  5.27067371e-02\n",
      "   2.28988081e-02 -6.60117343e-02  5.53124659e-02 -5.66548109e-03\n",
      "  -7.16179982e-02  3.70526388e-02  5.37924562e-03 -2.00117822e-03\n",
      "  -1.26733050e-01  3.33858700e-03 -1.97304804e-02  1.40057793e-02\n",
      "  -4.39963071e-03  1.69174820e-02  5.44833718e-03 -3.75856310e-02\n",
      "   2.15564631e-02  3.62482201e-03 -2.42214110e-02 -9.21380892e-03\n",
      "   1.47188990e-03 -4.15781140e-03  1.50322774e-02 -7.47369677e-02\n",
      "  -8.01853091e-02 -5.86288422e-02  1.29990214e-02 -1.06659590e-03\n",
      "   7.46678794e-03  2.09445134e-02 -1.26831755e-02 -2.96105277e-02\n",
      "  -1.39169479e-02  2.87814327e-02 -7.02262996e-03  6.17478192e-02\n",
      "  -4.01913561e-02 -4.73373644e-02 -3.45456153e-02 -2.12406181e-02\n",
      "   6.41166642e-02 -3.29910615e-03 -3.77632938e-02 -1.63474790e-04\n",
      "   7.86060765e-02 -1.03143333e-02  2.40338780e-03 -1.55060459e-02\n",
      "  -5.18776439e-02 -4.42578681e-02  1.69569626e-02  2.64718123e-02\n",
      "   4.58370969e-02 -2.12702295e-03 -4.02900577e-02 -5.70496172e-02\n",
      "  -1.55331893e-03  4.29550037e-02  1.67102069e-02  7.08678588e-02\n",
      "  -4.33103293e-02  3.50391236e-03 -3.91648561e-02 -4.86402251e-02\n",
      "   2.23312736e-03  2.96598789e-03  2.76364926e-02 -2.07076296e-02\n",
      "   3.47824991e-02 -6.80647343e-02 -2.32146531e-02  1.26535650e-02\n",
      "  -2.46754400e-02  9.98861790e-02 -6.66829050e-02 -2.25829612e-02\n",
      "  -1.71148852e-02  2.83076633e-02  3.89279723e-02  2.79325973e-02\n",
      "   1.43709760e-02 -2.23065969e-02  2.91959792e-02  1.42821446e-02\n",
      "   1.44400671e-02 -2.58993413e-02 -1.89309977e-02  5.08116633e-02\n",
      "  -3.03754653e-03 -8.91276915e-03  3.84542048e-02 -5.62994815e-02\n",
      "  -2.19828561e-01  4.74952869e-02 -2.82681827e-02  5.12755616e-03\n",
      "   3.47232781e-02 -2.90972777e-02  3.96188870e-02 -1.83387864e-02\n",
      "  -2.62546670e-02  2.01228214e-03  4.57976162e-02 -7.95536190e-02\n",
      "  -4.85119130e-03  8.74497555e-03 -5.75233847e-02  1.57429297e-02\n",
      "   2.97092292e-02  5.59441559e-02  9.15952325e-02  3.08936499e-02\n",
      "  -1.53876040e-02  3.17424834e-02 -3.17030028e-02  2.03325618e-02\n",
      "   3.85134257e-02  2.53663510e-02  2.67481757e-03 -7.13416338e-02\n",
      "   2.01252885e-02 -1.06597897e-02  2.01450288e-02  3.01533868e-03\n",
      "  -4.70609963e-02  3.42100300e-02  1.18442113e-02 -3.64406891e-02\n",
      "   4.78506126e-02 -1.57626700e-02  2.68863589e-02  2.91564986e-02\n",
      "  -3.68749760e-02 -7.75400996e-02 -2.89788358e-02 -2.82089617e-02\n",
      "   6.49852380e-02 -1.14197936e-02  1.95799605e-03 -3.17227431e-02\n",
      "   1.45979896e-02 -8.40938929e-03  6.47878349e-02 -5.48781781e-03\n",
      "  -1.99574959e-02 -3.52760069e-02  1.82203446e-02  5.53519465e-02\n",
      "   1.20120039e-02  2.11221762e-02 -1.98193137e-02 -3.25518399e-02\n",
      "   1.14415079e-01 -7.50626856e-03 -3.21570337e-02  2.15046457e-03\n",
      "  -5.04958183e-02  1.18738217e-02 -1.68656628e-03  4.31918874e-02\n",
      "  -4.84428219e-02  2.75575314e-02  1.24462917e-02  2.97684502e-02\n",
      "  -7.29603395e-02  6.86964253e-03 -1.49533162e-02 -4.07440849e-02\n",
      "  -1.84276178e-02 -4.71300911e-03  5.88262491e-02  3.38941850e-02\n",
      "   2.33725756e-02 -4.60345000e-02 -1.76083930e-02  1.77860558e-02\n",
      "  -4.51659225e-02 -2.91959792e-02 -4.56791744e-02  9.09536704e-03\n",
      "   3.78225148e-02  2.31554322e-02  8.99370387e-02  5.76418266e-03\n",
      "   3.29861268e-02  1.97600927e-02  1.98982749e-02  3.82765420e-02\n",
      "   6.48964057e-03  2.57808995e-02 -5.81550747e-02  3.43679525e-02\n",
      "   7.53834669e-04  8.99173040e-03 -1.55455265e-02 -6.05633967e-02\n",
      "   2.34712772e-02  1.61574781e-02  3.12489755e-02  2.80510392e-02\n",
      "   3.35783362e-02  1.37294149e-02  3.37165222e-02  7.50133349e-03\n",
      "   4.65082675e-02  1.01169301e-02  6.21031448e-02 -5.01799732e-02\n",
      "   7.07099363e-02 -3.86318676e-02 -1.27029158e-02 -8.13302472e-02\n",
      "   5.63587015e-03 -2.39647869e-02 -3.15450802e-02 -2.01450288e-02\n",
      "   6.32086024e-02 -1.03340736e-02  3.37362625e-02  2.68222019e-03\n",
      "   2.44188141e-02 -9.63329151e-03  1.18343411e-02  2.77154539e-02\n",
      "   8.63837749e-02 -3.38744447e-02  2.31554322e-02  4.96272445e-02\n",
      "   1.45683791e-02 -4.37603485e-05  7.96029717e-03 -1.77909923e-03\n",
      "  -7.96325803e-02  5.27067389e-03  4.09414880e-02  9.88991652e-03\n",
      "   3.62038054e-02  3.35783362e-02  2.69258395e-02 -2.81694811e-02\n",
      "  -4.44157906e-02  2.29975097e-02 -1.18639516e-02 -2.60177832e-02\n",
      "   2.20499728e-02  9.19110775e-02  3.53549682e-02  1.07881017e-02\n",
      "   2.83274036e-02  1.07881017e-02 -6.55379668e-02  2.80905198e-02\n",
      "   5.01404926e-02 -8.15770030e-03 -2.59783026e-02  9.86524019e-03\n",
      "  -1.16073266e-02 -5.92605360e-02  4.91929576e-02  3.09331305e-02\n",
      "   2.28790678e-02 -1.44499373e-02  3.76053713e-02 -2.99658533e-02\n",
      "  -1.17751192e-02  3.74277048e-02 -7.27629364e-02  8.67958588e-04\n",
      "   8.05406347e-02 -2.46951804e-02 -1.29200602e-02  5.01010120e-02]]\n"
     ]
    }
   ],
   "source": [
    "# function test\n",
    "async def test_funcs():\n",
    "    result = await llm_model_func(\"How are you?\")\n",
    "    print(\"llm_model_func: \", result)\n",
    "\n",
    "    result = await embedding_func([\"How are you?\"])\n",
    "    print(\"embedding_func: \", result)\n",
    "\n",
    "\n",
    "asyncio.run(test_funcs())\n"
   ]
  },
  {
   "cell_type": "code",
   "execution_count": 6,
   "id": "fec8e6c3",
   "metadata": {},
   "outputs": [
    {
     "name": "stderr",
     "output_type": "stream",
     "text": [
      "INFO:lightrag:Logger initialized for working directory: ./KG\n",
      "INFO:lightrag:Load KV llm_response_cache with 6 data\n",
      "INFO:lightrag:Load KV full_docs with 8 data\n",
      "INFO:lightrag:Load KV text_chunks with 56 data\n",
      "INFO:lightrag:Loaded graph from ./KG/graph_chunk_entity_relation.graphml with 856 nodes, 595 edges\n",
      "INFO:nano-vectordb:Load (769, 768) data\n",
      "INFO:nano-vectordb:Init {'embedding_dim': 768, 'metric': 'cosine', 'storage_file': './KG/vdb_entities.json'} 769 data\n",
      "INFO:nano-vectordb:Load (595, 768) data\n",
      "INFO:nano-vectordb:Init {'embedding_dim': 768, 'metric': 'cosine', 'storage_file': './KG/vdb_relationships.json'} 595 data\n",
      "INFO:nano-vectordb:Load (56, 768) data\n",
      "INFO:nano-vectordb:Init {'embedding_dim': 768, 'metric': 'cosine', 'storage_file': './KG/vdb_chunks.json'} 56 data\n",
      "INFO:lightrag:Loaded document status storage with 8 records\n"
     ]
    }
   ],
   "source": [
    "rag = LightRAG(\n",
    "    working_dir=WORKING_DIR,\n",
    "    chunking_mode=\"markdown\",\n",
    "    llm_model_func=llm_model_func,\n",
    "    embedding_func=EmbeddingFunc(\n",
    "        embedding_dim=768, max_token_size=512, func=embedding_func\n",
    "    ),\n",
    ")\n"
   ]
  },
  {
   "cell_type": "code",
   "execution_count": null,
   "metadata": {},
   "outputs": [],
   "source": [
    "# Choose the model here\n",
    "model_choice = \"ollama\"  # Options: \"ollama\", \"openai\"\n",
    "\n",
    "llm_model_func = ollama_model_complete\n",
    "embedding_func = EmbeddingFunc(\n",
    "    embedding_dim=1024,\n",
    "    max_token_size=8192,\n",
    "    func=lambda texts: ollama_embed(\n",
    "        texts,\n",
    "        embed_model=\"bge-m3:latest\"\n",
    "    )\n",
    ")\n",
    "rag = LightRAG(\n",
    "    working_dir=WORKING_DIR,\n",
    "    llm_model_func=llm_model_func, \n",
    "    llm_model_name='qwen2.5:7b-instruct-q4_K_M',\n",
    "    embedding_func=embedding_func,\n",
    "    llm_model_max_token_size=32768,\n",
    "    llm_model_kwargs={\"host\": \"http://localhost:11434\", \"options\": {\"num_ctx\": 32768}},\n",
    "\n",
    ")"
   ]
  },
  {
   "cell_type": "code",
   "execution_count": 7,
   "metadata": {},
   "outputs": [
    {
     "name": "stderr",
     "output_type": "stream",
     "text": [
      "INFO:lightrag:Inserting 1 to doc_status\n",
      "INFO:lightrag:Stored 1 new unique documents\n",
      "INFO:lightrag:Number of batches to process: 1.\n",
      "INFO:lightrag:Start processing batch 1 of 1.\n",
      "INFO:lightrag:Inserting 1 to doc_status\n",
      "INFO:lightrag:Inserting 4 to chunks\n",
      "INFO:lightrag:Inserting 1 to full_docs\n",
      "INFO:lightrag:Inserting 4 to text_chunks\n",
      "INFO:lightrag:Non-embedding cached missed(mode:default type:extract)\n",
      "INFO:lightrag:Non-embedding cached missed(mode:default type:extract)\n",
      "INFO:lightrag:Non-embedding cached missed(mode:default type:extract)\n"
     ]
    },
    {
     "name": "stdout",
     "output_type": "stream",
     "text": [
      "Processing Chapter: # 中国铁路广州局集团有限公司关于公布《广州局集团公司旅客列车登乘卡管理办法》的通知\n",
      "Processing Section: ## 广州局集团公司旅客列车登乘卡管理办法\n",
      "Processing Subsection: ### 第一章 总 则\n",
      "Processing Subsection: ### 第二章 登乘卡规定\n",
      "Processing Subsection: ### 第三章 登乘卡管理\n"
     ]
    },
    {
     "name": "stderr",
     "output_type": "stream",
     "text": [
      "INFO:lightrag:Non-embedding cached missed(mode:default type:extract)\n",
      "INFO:lightrag:Inserting 1 to llm_response_cache\n",
      "INFO:lightrag:Non-embedding cached missed(mode:default type:extract)\n",
      "INFO:lightrag:Inserting 1 to llm_response_cache\n",
      "INFO:lightrag:Non-embedding cached missed(mode:default type:extract)\n",
      "INFO:lightrag:Inserting 1 to llm_response_cache\n",
      "INFO:lightrag:Non-embedding cached missed(mode:default type:extract)\n",
      "INFO:lightrag:Inserting 1 to llm_response_cache\n",
      "INFO:lightrag:Non-embedding cached missed(mode:default type:extract)\n",
      "INFO:lightrag:Inserting 1 to llm_response_cache\n",
      "INFO:lightrag:Inserting 1 to llm_response_cache\n",
      "INFO:lightrag:Inserting 1 to llm_response_cache\n",
      "INFO:lightrag:Inserting 1 to llm_response_cache\n",
      "INFO:lightrag:Inserting 49 to entities\n",
      "INFO:lightrag:Inserting 36 to relationships\n",
      "INFO:lightrag:New entities or relationships extracted.\n",
      "INFO:lightrag:Inserting 1 to doc_status\n",
      "INFO:lightrag:Completed batch 1 of 1.\n",
      "INFO:lightrag:Writing graph with 904 nodes, 631 edges\n",
      "INFO:lightrag:All Insert done\n"
     ]
    }
   ],
   "source": [
    "with open(\"./kg9.md\") as f:\n",
    "    rag.insert(f.read())"
   ]
  },
  {
   "cell_type": "code",
   "execution_count": 8,
   "id": "5ca7ed12",
   "metadata": {},
   "outputs": [],
   "source": [
    "q = \"登乘证的管理包括哪些内容\""
   ]
  },
  {
   "cell_type": "code",
   "execution_count": 9,
   "metadata": {},
   "outputs": [
    {
     "name": "stderr",
     "output_type": "stream",
     "text": [
      "INFO:lightrag:Non-embedding cached missed(mode:naive type:query)\n"
     ]
    },
    {
     "name": "stdout",
     "output_type": "stream",
     "text": [
      "naive.....................\n"
     ]
    },
    {
     "name": "stderr",
     "output_type": "stream",
     "text": [
      "INFO:lightrag:Inserting 1 to llm_response_cache\n"
     ]
    },
    {
     "name": "stdout",
     "output_type": "stream",
     "text": [
      "登乘证的管理主要包括以下几个方面：\n",
      "\n",
      "一、客运部负责登乘卡管理系统的研发及维护，确保系统正常运作，并对各站段进行指导和监督。同时，客运部还负责与印刷厂对接印制登乘卡，并通过站段做好发放和回收工作。\n",
      "\n",
      "二、劳卫部负责指导和监督相关单位确保在册劳务工数据信息的准确性，并审核劳务工身份及其登乘卡通勤区段的有关工作。\n",
      "\n",
      "三、财务部（收入部）有权对登乘卡的请领、审核、发放、缴销以及使用情况进行监督检查，而且收入稽查人员可以查扣违规的登乘卡及相关证件、证明，并负责通报和处理违反规定的行为。\n",
      "\n",
      "四、各业务部门负责收集各单位的办理需求，并审核这些信息的录入和日常管理。比如车辆部、电务部和运输部负责车辆及车载设备厂家人员的登乘卡申请，保卫部则负责保安公司的相关申请。\n",
      "\n",
      "五、申请登乘证的单位需要负责信息录入和日常管理，确保信息的准确性。申请单位需依据相关规章制度审核劳务工的信息并进行严格初审，防止越界提交申请。\n",
      "\n",
      "这些职责分工确保了登乘证管理的全面性和细致性，维护了站车的良好秩序。\n"
     ]
    }
   ],
   "source": [
    "# Perform naive search\n",
    "print(\"naive.....................\")\n",
    "print(rag.query(q, param=QueryParam(mode=\"naive\")))"
   ]
  },
  {
   "cell_type": "code",
   "execution_count": null,
   "metadata": {},
   "outputs": [],
   "source": [
    "# Perform local search\n",
    "print(\"local.....................\")\n",
    "print(rag.query(q, param=QueryParam(mode=\"local\")))"
   ]
  },
  {
   "cell_type": "code",
   "execution_count": null,
   "metadata": {},
   "outputs": [],
   "source": [
    "# Perform global search\n",
    "print(\"global.....................\")\n",
    "print(rag.query(q, param=QueryParam(mode=\"global\")))"
   ]
  },
  {
   "cell_type": "code",
   "execution_count": null,
   "metadata": {},
   "outputs": [],
   "source": [
    "# Perform hybrid search\n",
    "print(\"hybrid.....................\")\n",
    "print(rag.query(q, param=QueryParam(mode=\"hybrid\")))"
   ]
  },
  {
   "cell_type": "code",
   "execution_count": 10,
   "metadata": {},
   "outputs": [
    {
     "name": "stderr",
     "output_type": "stream",
     "text": [
      "INFO:lightrag:Non-embedding cached missed(mode:mix type:query)\n",
      "INFO:lightrag:Non-embedding cached missed(mode:mix type:keywords)\n"
     ]
    },
    {
     "name": "stdout",
     "output_type": "stream",
     "text": [
      "mix.....................\n"
     ]
    },
    {
     "name": "stderr",
     "output_type": "stream",
     "text": [
      "INFO:lightrag:Inserting 1 to llm_response_cache\n",
      "INFO:lightrag:Query nodes: 申请流程, 使用规定, 审核程序, 权限管理, top_k: 60, cosine: 0.2\n",
      "INFO:lightrag:Query edges: 登乘证管理, 管理内容, top_k: 60, cosine: 0.2\n",
      "INFO:lightrag:Global query uses 54 entites, 60 relations, 9 chunks\n",
      "INFO:lightrag:Local query uses 60 entites, 62 relations, 6 chunks\n"
     ]
    },
    {
     "name": "stdout",
     "output_type": "stream",
     "text": [
      "广州局集团公司对登乘证的管理涉及多个方面，具体包括：\n",
      "\n",
      "### 管理职责\n",
      "#### 客运部\n",
      "- 负责登乘卡管理系统的研发及维护，检查指导各站段系统更新维护情况。\n",
      "- 负责登记高铁车站客服系统设备维护的路外公司工作人员、相关保洁单位管理人员、动车餐饮公司管理人员的登乘卡办理需求。\n",
      "- 负责与印刷厂对接印制登乘卡，并组织登乘卡的发放和回收销毁工作，督促站段做好登乘卡日常验证管理工作。\n",
      "- 负责登乘卡验证系统后台数据的更新及清理。\n",
      "\n",
      "#### 劳卫部\n",
      "- 指导、监督有关单位及时维护更新在册劳务工数据信息，确保准确性。\n",
      "- 指导、监督有关单位做好劳务工身份及登乘卡通勤区段审核的相关工作。\n",
      "\n",
      "#### 财务部（收入部）\n",
      "有权对登乘卡的请领、审核、发放、缴销和使用情况进行监督检查。收入稽查人员有权查扣各种违规登乘卡及有关证件、证明，通报和处理违规使用登乘卡事项。\n",
      "\n",
      "#### 各业务部门\n",
      "负责收集并审核本系统各单位提报的办理需求，指导本系统各单位做好登乘卡办证信息录入及日常管理工作。具体部门如车辆部、电务部、运输部和保卫部分别负责不同类型人员的登乘卡办理需求的收集和审核。\n",
      "\n",
      "#### 申请登乘卡单位\n",
      "- 负责本单位登乘卡的信息录入及日常管理，建立严格的登乘卡请领、保管、回收、缴交等制度。\n",
      "- 对本单位劳务工资质及相关信息进行确认，严格初审，提交的通勤劳务工信息应符合特定条件。\n",
      "- 负责动态管理持卡者的信息，特别注意人员调入调出及离岗离职情况。\n",
      "\n",
      "### 登乘卡类别\n",
      "- 广深港高铁跨境动车组登乘卡（分为公用卡和个人卡）\n",
      "- 旅客列车登乘卡（分为通勤登乘卡和维保登乘卡两种）\n",
      "\n",
      "### 登乘卡限制\n",
      "- 跨境登乘卡、通勤登乘卡、维保登乘卡仅限在集团公司管内车站进出。\n",
      "- 严禁超区间使用，严禁乘坐外局或港铁担当的旅客列车。\n",
      "- 通勤登乘卡、维保登乘卡均不办理签证，不安排座席仅限乘坐相应区段内集团公司担当的动车组列车二等座。\n",
      "\n",
      "### 登乘卡使用\n",
      "- 携带跨境登乘卡或通勤登乘卡时，需同时出示本人二代居民身份证。\n",
      "- 使用维保登乘卡时，须同时出示本人二代居民身份证，在作业时间内可登乘列车。\n",
      "\n",
      "### 参考文献\n",
      "1. [KG] \"广州局集团公司旅客列车登乘卡管理办法\"\n",
      "2. [DC] \"本小节标题是：### 第三章 登乘卡管理\"\n",
      "3. [KG] \"广州局集团公司涉及到登乘卡管理的具体部门职责分工\"\n",
      "4. [KG] \"广州局集团公司旅客列车登乘卡管理办法\"\n",
      "\n",
      "登乘证的管理涉及多个部门和详细的职责分工，确保了登乘管理的有效性和规范性。\n"
     ]
    }
   ],
   "source": [
    "# Perform mix search (Knowledge Graph + Vector Retrieval)\n",
    "print(\"mix.....................\")\n",
    "print(rag.query(q, param=QueryParam(mode=\"mix\")))"
   ]
  }
 ],
 "metadata": {
  "kernelspec": {
   "display_name": "Python 3",
   "language": "python",
   "name": "python3"
  },
  "language_info": {
   "codemirror_mode": {
    "name": "ipython",
    "version": 3
   },
   "file_extension": ".py",
   "mimetype": "text/x-python",
   "name": "python",
   "nbconvert_exporter": "python",
   "pygments_lexer": "ipython3",
   "version": "3.11.11"
  }
 },
 "nbformat": 4,
 "nbformat_minor": 5
}
