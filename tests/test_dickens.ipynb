{
 "cells": [
  {
   "cell_type": "markdown",
   "metadata": {},
   "source": [
    "# Test Dickens\n",
    "This notebook replicates the functionality of the `test_ollama.py` script."
   ]
  },
  {
   "cell_type": "code",
   "execution_count": 1,
   "metadata": {},
   "outputs": [
    {
     "name": "stdout",
     "output_type": "stream",
     "text": [
      "Looking in indexes: https://mirrors.cloud.tencent.com/pypi/simple\n"
     ]
    },
    {
     "name": "stderr",
     "output_type": "stream",
     "text": [
      "\u001b[31mERROR: Could not find a version that satisfies the requirement lmdeploy (from versions: none)\u001b[0m\u001b[31m\n",
      "\u001b[0m\u001b[31mERROR: No matching distribution found for lmdeploy\u001b[0m\u001b[31m\n",
      "\u001b[0m"
     ]
    }
   ],
   "source": [
    "import os\n",
    "from lightrag import LightRAG, QueryParam\n",
    "from lightrag.llm.openai import gpt_4o_mini_complete, gpt_4o_complete, openai_embed\n",
    "from lightrag.llm.ollama import ollama_model_complete, ollama_embed\n",
    "from lightrag.llm.siliconcloud import siliconcloud_embedding\n",
    "from lightrag.utils import EmbeddingFunc\n",
    "import asyncio\n",
    "from lightrag import LightRAG, QueryParam\n",
    "from lightrag.llm.openai import openai_complete_if_cache\n",
    "from lightrag.llm.siliconcloud import siliconcloud_embedding\n",
    "from lightrag.utils import EmbeddingFunc\n",
    "import numpy as np\n",
    "\n",
    "\n",
    "# Uncomment the below two lines if running in a jupyter notebook to handle the async nature of rag.insert()\n",
    "import nest_asyncio\n",
    "nest_asyncio.apply()"
   ]
  },
  {
   "cell_type": "code",
   "execution_count": 2,
   "metadata": {},
   "outputs": [
    {
     "data": {
      "text/plain": [
       "True"
      ]
     },
     "execution_count": 2,
     "metadata": {},
     "output_type": "execute_result"
    }
   ],
   "source": [
    "WORKING_DIR = \"./dickens\"\n",
    "\n",
    "if not os.path.exists(WORKING_DIR):\n",
    "    os.mkdir(WORKING_DIR)\n",
    "\n",
    "# 在导入部分添加\n",
    "from dotenv import load_dotenv\n",
    "\n",
    "# 在代码的开头加载环境变量\n",
    "load_dotenv()"
   ]
  },
  {
   "cell_type": "code",
   "execution_count": 11,
   "id": "ed8b354e",
   "metadata": {},
   "outputs": [],
   "source": [
    "async def llm_model_func(\n",
    "    prompt, system_prompt=None, history_messages=[], keyword_extraction=False, **kwargs\n",
    ") -> str:\n",
    "    return await openai_complete_if_cache(\n",
    "        \"Qwen/Qwen2.5-7B-Instruct\",\n",
    "        prompt,\n",
    "        system_prompt=system_prompt,\n",
    "        history_messages=history_messages,\n",
    "        api_key=os.getenv(\"SILICONFLOW_API_KEY\"),\n",
    "        base_url=\"https://api.siliconflow.cn/v1/\",\n",
    "        **kwargs,\n",
    "    )\n",
    "\n",
    "\n",
    "async def embedding_func(texts: list[str]) -> np.ndarray:\n",
    "    return await siliconcloud_embedding(\n",
    "        texts,\n",
    "        model=\"netease-youdao/bce-embedding-base_v1\",\n",
    "        api_key=os.getenv(\"SILICONFLOW_API_KEY\"),\n",
    "        max_token_size=512,\n",
    "    )\n",
    "\n"
   ]
  },
  {
   "cell_type": "code",
   "execution_count": null,
   "id": "f3334181",
   "metadata": {},
   "outputs": [],
   "source": [
    "# function test\n",
    "async def test_funcs():\n",
    "    result = await llm_model_func(\"How are you?\")\n",
    "    print(\"llm_model_func: \", result)\n",
    "\n",
    "    result = await embedding_func([\"How are you?\"])\n",
    "    print(\"embedding_func: \", result)\n",
    "\n",
    "\n",
    "asyncio.run(test_funcs())\n"
   ]
  },
  {
   "cell_type": "code",
   "execution_count": null,
   "id": "fec8e6c3",
   "metadata": {},
   "outputs": [],
   "source": [
    "rag = LightRAG(\n",
    "    working_dir=WORKING_DIR,\n",
    "    llm_model_func=llm_model_func,\n",
    "    embedding_func=EmbeddingFunc(\n",
    "        embedding_dim=768, max_token_size=512, func=embedding_func\n",
    "    ),\n",
    ")\n"
   ]
  },
  {
   "cell_type": "code",
   "execution_count": 3,
   "metadata": {},
   "outputs": [
    {
     "name": "stderr",
     "output_type": "stream",
     "text": [
      "/Users/llp/miniforge3/envs/lightrag/lib/python3.11/site-packages/tqdm/auto.py:21: TqdmWarning: IProgress not found. Please update jupyter and ipywidgets. See https://ipywidgets.readthedocs.io/en/stable/user_install.html\n",
      "  from .autonotebook import tqdm as notebook_tqdm\n",
      "INFO:nano-vectordb:Init {'embedding_dim': 1024, 'metric': 'cosine', 'storage_file': './dickens/vdb_entities.json'} 0 data\n",
      "INFO:nano-vectordb:Init {'embedding_dim': 1024, 'metric': 'cosine', 'storage_file': './dickens/vdb_relationships.json'} 0 data\n",
      "INFO:nano-vectordb:Init {'embedding_dim': 1024, 'metric': 'cosine', 'storage_file': './dickens/vdb_chunks.json'} 0 data\n",
      "INFO:lightrag:Loaded document status storage with 0 records\n"
     ]
    }
   ],
   "source": [
    "# Choose the model here\n",
    "model_choice = \"ollama\"  # Options: \"ollama\", \"openai\"\n",
    "\n",
    "llm_model_func = ollama_model_complete\n",
    "embedding_func = EmbeddingFunc(\n",
    "    embedding_dim=1024,\n",
    "    max_token_size=8192,\n",
    "    func=lambda texts: ollama_embed(\n",
    "        texts,\n",
    "        embed_model=\"bge-m3:latest\"\n",
    "    )\n",
    ")\n",
    "rag = LightRAG(\n",
    "    working_dir=WORKING_DIR,\n",
    "    llm_model_func=llm_model_func, \n",
    "    llm_model_name='qwen2.5:7b-instruct-q4_K_M',\n",
    "    embedding_func=embedding_func,\n",
    "    llm_model_max_token_size=32768,\n",
    "    llm_model_kwargs={\"host\": \"http://localhost:11434\", \"options\": {\"num_ctx\": 32768}},\n",
    "\n",
    ")"
   ]
  },
  {
   "cell_type": "code",
   "execution_count": 4,
   "metadata": {},
   "outputs": [
    {
     "name": "stderr",
     "output_type": "stream",
     "text": [
      "INFO:lightrag:Stored 1 new unique documents\n",
      "INFO:lightrag:Number of batches to process: 1.\n",
      "INFO:lightrag:Inserting 12 vectors to chunks\n",
      "INFO:lightrag:Non-embedding cached missed(mode:default type:extract)\n",
      "INFO:lightrag:Non-embedding cached missed(mode:default type:extract)\n",
      "INFO:lightrag:Non-embedding cached missed(mode:default type:extract)\n",
      "INFO:lightrag:Non-embedding cached missed(mode:default type:extract)\n",
      "INFO:lightrag:Non-embedding cached missed(mode:default type:extract)\n",
      "INFO:lightrag:Non-embedding cached missed(mode:default type:extract)\n",
      "INFO:lightrag:Non-embedding cached missed(mode:default type:extract)\n",
      "INFO:lightrag:Non-embedding cached missed(mode:default type:extract)\n",
      "INFO:lightrag:Non-embedding cached missed(mode:default type:extract)\n",
      "INFO:lightrag:Non-embedding cached missed(mode:default type:extract)\n",
      "INFO:lightrag:Non-embedding cached missed(mode:default type:extract)\n",
      "INFO:lightrag:Non-embedding cached missed(mode:default type:extract)\n",
      "INFO:lightrag:Non-embedding cached missed(mode:default type:extract)\n",
      "INFO:lightrag:Non-embedding cached missed(mode:default type:extract)\n",
      "INFO:lightrag:Non-embedding cached missed(mode:default type:extract)\n",
      "INFO:lightrag:Non-embedding cached missed(mode:default type:extract)\n",
      "INFO:lightrag:Non-embedding cached missed(mode:default type:extract)\n",
      "INFO:lightrag:Non-embedding cached missed(mode:default type:extract)\n",
      "INFO:lightrag:Non-embedding cached missed(mode:default type:extract)\n",
      "INFO:lightrag:Non-embedding cached missed(mode:default type:extract)\n",
      "INFO:lightrag:Non-embedding cached missed(mode:default type:extract)\n",
      "INFO:lightrag:Non-embedding cached missed(mode:default type:extract)\n",
      "INFO:lightrag:Non-embedding cached missed(mode:default type:extract)\n",
      "INFO:lightrag:Non-embedding cached missed(mode:default type:extract)\n",
      "INFO:lightrag:Inserting 87 vectors to entities\n",
      "INFO:lightrag:Inserting 83 vectors to relationships\n",
      "INFO:lightrag:New entities or relationships extracted.\n",
      "INFO:lightrag:Writing graph with 101 nodes, 83 edges\n",
      "INFO:lightrag:Completed batch 1 of 1.\n"
     ]
    }
   ],
   "source": [
    "with open(\"./book.txt\") as f:\n",
    "    rag.insert(f.read())"
   ]
  },
  {
   "cell_type": "code",
   "execution_count": 5,
   "metadata": {},
   "outputs": [
    {
     "name": "stderr",
     "output_type": "stream",
     "text": [
      "INFO:lightrag:Non-embedding cached missed(mode:naive type:query)\n",
      "WARNING:lightrag:No chunks left after truncation\n"
     ]
    },
    {
     "name": "stdout",
     "output_type": "stream",
     "text": [
      "naive.....................\n",
      "Sorry, I'm not able to provide an answer to that question.[no-context]\n"
     ]
    }
   ],
   "source": [
    "# Perform naive search\n",
    "print(\"naive.....................\")\n",
    "print(rag.query(\"What are the top themes in this story?\", param=QueryParam(mode=\"naive\")))"
   ]
  },
  {
   "cell_type": "code",
   "execution_count": 6,
   "metadata": {},
   "outputs": [
    {
     "name": "stderr",
     "output_type": "stream",
     "text": [
      "INFO:lightrag:Non-embedding cached missed(mode:local type:query)\n",
      "INFO:lightrag:Non-embedding cached missed(mode:local type:keywords)\n"
     ]
    },
    {
     "name": "stdout",
     "output_type": "stream",
     "text": [
      "local.....................\n"
     ]
    },
    {
     "name": "stderr",
     "output_type": "stream",
     "text": [
      "INFO:lightrag:Query nodes: Plot elements, Character development, Setting, Conflict, top_k: 60, cosine: 0.2\n",
      "INFO:lightrag:Local query uses 60 entites, 65 relations, 0 chunks\n"
     ]
    },
    {
     "name": "stdout",
     "output_type": "stream",
     "text": [
      "The story \"A Christmas Carol\" by Charles Dickens explores several key themes that resonate throughout the narrative:\n",
      "\n",
      "1. **Redemption and Transformation**: The central theme revolves around Scrooge's transformation from a miserly, bitter old man to a kind, generous person who values family and charity. This transformation is facilitated by his encounters with the three spirits: the Ghost of Christmas Past, Present, and Yet to Come.\n",
      "\n",
      "2. **Moral Guidance Through Visions**: The spirits guide Scrooge through his past, present, and future, offering moral lessons that challenge his behavior and influence his character development. These visions reveal the consequences of his actions and the importance of change.\n",
      "\n",
      "3. **The Spirit of Christmas**: The story emphasizes the true spirit of Christmas, which includes giving, charity, and family bonds. Scrooge's experiences during the visits from the spirits highlight these values and their impact on society.\n",
      "\n",
      "4. **Social Class and Inequality**: Dickens uses characters like Bob Cratchit and Tiny Tim to contrast the wealthy Scrooge with the poor working class, reflecting Victorian social issues such as poverty and inequality.\n",
      "\n",
      "5. **Family Bonds and Responsibilities**: The dynamics within the Cratchit family and Scrooge's nephew illustrate the importance of familial relationships and the responsibilities that come with them.\n",
      "\n",
      "6. **Fear and Reflection on Past Actions**: Scrooge experiences fear and reflection upon encountering Marley’s ghost, which serves as a moral lesson for his future actions. This theme underscores the impact of past choices on present circumstances.\n",
      "\n",
      "7. **Rebellion Against Miserliness**: The character of Belle represents potential opportunities that Scrooge misses due to his miserly nature, highlighting how greed can lead to missed chances at happiness and love.\n",
      "\n",
      "These themes collectively contribute to the narrative's exploration of human nature, moral responsibility, and the transformative power of reflection and change.\n"
     ]
    }
   ],
   "source": [
    "# Perform local search\n",
    "print(\"local.....................\")\n",
    "print(rag.query(\"What are the top themes in this story?\", param=QueryParam(mode=\"local\")))"
   ]
  },
  {
   "cell_type": "code",
   "execution_count": 8,
   "metadata": {},
   "outputs": [
    {
     "name": "stderr",
     "output_type": "stream",
     "text": [
      "INFO:lightrag:Non-embedding cached hit(mode:global type:query)\n"
     ]
    },
    {
     "name": "stdout",
     "output_type": "stream",
     "text": [
      "global.....................\n",
      "The story of \"A Christmas Carol\" by Charles Dickens is rich with thematic elements that resonate deeply within its narrative. The primary themes include transformation, redemption, and the spirit of Christmas.\n",
      "\n",
      "### Transformation and Redemption\n",
      "One of the most significant themes in \"A Christmas Carol\" is the profound personal transformation experienced by Ebenezer Scrooge. Initially a bitter, miserly old man who despises Christmas and his fellow human beings, Scrooge undergoes a dramatic change after being visited by the three spirits—ghosts of Christmas Past, Present, and Yet to Come. These spirits reveal to him not only his past mistakes but also the dire consequences of his current behavior. Through this journey, Scrooge comes to understand the value of generosity, compassion, and family, ultimately leading to a complete transformation from a miser to a kind and generous man.\n",
      "\n",
      "### The Spirit of Christmas\n",
      "The spirit of Christmas is another crucial theme that permeates the narrative. This concept encompasses themes such as joy, unity, and the celebration of life despite adversity. Throughout the story, Dickens uses the imagery of feasts, music, dancing, and charity to illustrate how Christmas can bring people together and foster a sense of community and shared humanity. The character of Tiny Tim serves as a symbol of this spirit, embodying hope, gratitude, and the enduring power of human connection.\n",
      "\n",
      "### Social Critique\n",
      "Dickens also uses \"A Christmas Carol\" to critique social inequalities and highlight issues such as poverty, unemployment, and the harsh conditions faced by working-class families like the Cratchits. The contrast between Scrooge's wealthy lifestyle and the struggles of his clerk and his family underscores the broader societal problems of Dickens' time. This theme is particularly evident in scenes where Scrooge reflects on how he could have been a different person had he not experienced a similar life to that of Bob Cratchit.\n",
      "\n",
      "These themes collectively paint a vivid picture of Victorian society and its moral challenges, while also offering a message of hope and the possibility for change through personal reflection and action.\n"
     ]
    }
   ],
   "source": [
    "# Perform global search\n",
    "print(\"global.....................\")\n",
    "print(rag.query(\"What are the top themes in this story?\", param=QueryParam(mode=\"global\")))"
   ]
  },
  {
   "cell_type": "code",
   "execution_count": 9,
   "metadata": {},
   "outputs": [
    {
     "name": "stderr",
     "output_type": "stream",
     "text": [
      "INFO:lightrag:Non-embedding cached missed(mode:hybrid type:query)\n",
      "INFO:lightrag:Non-embedding cached missed(mode:hybrid type:keywords)\n"
     ]
    },
    {
     "name": "stdout",
     "output_type": "stream",
     "text": [
      "hybrid.....................\n"
     ]
    },
    {
     "name": "stderr",
     "output_type": "stream",
     "text": [
      "INFO:lightrag:Query nodes: Narrative elements, Plot development, Character arcs, Symbolism, top_k: 60, cosine: 0.2\n",
      "INFO:lightrag:Query edges: Top themes, Story analysis, top_k: 60, cosine: 0.2\n",
      "INFO:lightrag:Global query uses 62 entites, 60 relations, 0 chunks\n",
      "INFO:lightrag:Local query uses 60 entites, 66 relations, 0 chunks\n"
     ]
    },
    {
     "name": "stdout",
     "output_type": "stream",
     "text": [
      "The story of \"A Christmas Carol\" by Charles Dickens is rich with several prominent themes that resonate throughout the narrative:\n",
      "\n",
      "1. **Redemption and Transformation**: One of the most central themes is the transformative journey of Ebenezer Scrooge. Initially portrayed as a bitter, miserly old man, Scrooge undergoes a significant change after being visited by the three spirits of Christmas past, present, and yet to come. These visits reveal his misdeeds and the potential consequences if he does not alter his ways.\n",
      "\n",
      "2. **The Spirit of Christmas**: The novel emphasizes the true spirit of Christmas, which transcends mere materialism and commercialization. Scrooge learns that generosity, compassion, and kindness are essential virtues that should be practiced throughout the year, not just during the festive season.\n",
      "\n",
      "3. **Class Differences and Social Inequality**: The story starkly contrasts the wealthy Scrooge with his poor employees and neighbors, such as Bob Cratchit and his family. This juxtaposition highlights social inequality and the plight of the working class in Victorian England.\n",
      "\n",
      "4. **Family and Duty**: Family bonds play a crucial role in the narrative. Tiny Tim’s condition serves as a symbol of vulnerability and the importance of familial support. Scrooge’s interactions with Bob Cratchit’s family, especially Mrs. Cratchit and Martha, illustrate themes of duty, sacrifice, and love within the family unit.\n",
      "\n",
      "5. **Miserliness vs. Generosity**: Scrooge's miserly nature is a central conflict in the story, contrasted with the generous actions of other characters like Fred and his Christmas feast. This theme underscores the moral choice between greed and compassion.\n",
      "\n",
      "6. **Reflection on Past Actions**: The spirits guide Scrooge through his past, revealing how his current behavior stems from earlier choices. This reflection serves as a catalyst for change, showing that one’s actions have long-lasting effects.\n",
      "\n",
      "7. **Hope and Optimism**: Despite initial skepticism, the story ultimately conveys a message of hope, suggesting that even the most hardened individuals can be changed through experiences and guidance. The spirit of Tiny Tim represents this enduring optimism amidst hardship.\n",
      "\n",
      "These themes collectively paint a picture of a profound tale of personal redemption, social justice, and the true meaning of Christmas in Dickens' iconic work.\n"
     ]
    }
   ],
   "source": [
    "# Perform hybrid search\n",
    "print(\"hybrid.....................\")\n",
    "print(rag.query(\"What are the top themes in this story?\", param=QueryParam(mode=\"hybrid\")))"
   ]
  },
  {
   "cell_type": "code",
   "execution_count": 10,
   "metadata": {},
   "outputs": [
    {
     "name": "stderr",
     "output_type": "stream",
     "text": [
      "INFO:lightrag:Non-embedding cached missed(mode:mix type:query)\n",
      "INFO:lightrag:Non-embedding cached missed(mode:mix type:keywords)\n"
     ]
    },
    {
     "name": "stdout",
     "output_type": "stream",
     "text": [
      "mix.....................\n"
     ]
    },
    {
     "name": "stderr",
     "output_type": "stream",
     "text": [
      "INFO:lightrag:Query edges: Top themes, Story analysis, top_k: 60, cosine: 0.2\n",
      "INFO:lightrag:Global query uses 62 entites, 60 relations, 0 chunks\n"
     ]
    },
    {
     "name": "stdout",
     "output_type": "stream",
     "text": [
      "The story of \"A Christmas Carol\" by Charles Dickens is rich with several prominent themes that resonate through its narrative. Here are the key themes:\n",
      "\n",
      "### Redemption and Transformation\n",
      "One of the most central themes is the process of redemption and transformation, embodied by the character of Ebenezer Scrooge. Initially a bitter and miserly old man who is skeptical about the value of Christmas and charitable acts, Scrooge undergoes a profound change after being visited by three spirits (the Ghosts of Christmas Past, Present, and Yet to Come). These spirits reveal his past mistakes, current situation, and future consequences if he does not alter his ways. This journey leads him from miserliness to generosity and kindness.\n",
      "\n",
      "### The Spirit of Christmas\n",
      "The story emphasizes the spirit of Christmas, encompassing themes such as generosity, community, and joy. Through interactions with family members like Tiny Tim Cratchit and friends like Fred, Scrooge learns that true happiness comes not just from material wealth but also from love, compassion, and sharing. This theme is symbolized through various characters and events throughout the narrative.\n",
      "\n",
      "### Social Inequality\n",
      "\"A Christmas Carol\" highlights social inequality and class disparity during Victorian England. The contrast between Scrooge's wealthy lifestyle and the impoverished conditions of his clerk Bob Cratchit and his family serve as a stark reminder of the economic divisions in society. This theme is further underscored by the depiction of Scrooge's workers (the labourers) who are often seen as less fortunate.\n",
      "\n",
      "### Family and Duty\n",
      "Family and duty play significant roles in the story. Characters like Mrs. Cratchit, who supports her family despite their hardships, and Tiny Tim, whose condition serves as a catalyst for Scrooge’s transformation, illustrate the importance of familial bonds and one's responsibility towards loved ones.\n",
      "\n",
      "### Reflection on Past Actions\n",
      "The narrative strongly promotes reflection on past actions and the consequences they have. Marley's ghost warns Scrooge about his own misdeeds and the price he paid with his life, emphasizing that it is never too late to change for the better. This theme underscores the value of self-examination and the potential for redemption.\n",
      "\n",
      "### References\n",
      "1. [KG] \"Scrooge reflects on Bob and his family during Christmas, seeing his own past and present.\"\n",
      "2. [KG] \"The Ghost of Christmas Present shows Scrooge scenes from his past, highlighting his lonely childhood and early work experiences.\"\n",
      "3. [KG] \"Marley's ghost represents the spirit of Scrooge's deceased business partner, guiding him through memories and warnings.\"\n",
      "4. [KG] \"Old Fezziwig is the owner of a successful business who throws an extravagant Christmas party for his employees.\"\n",
      "5. [KG] \"Bob Cratchit’s sickly son, symbolizing vulnerability and the fragility of life.\"\n",
      "\n",
      "These references highlight the key themes and characters that drive the narrative of \"A Christmas Carol.\"\n"
     ]
    }
   ],
   "source": [
    "# Perform mix search (Knowledge Graph + Vector Retrieval)\n",
    "print(\"mix.....................\")\n",
    "print(rag.query(\"What are the top themes in this story?\", param=QueryParam(mode=\"mix\")))"
   ]
  }
 ],
 "metadata": {
  "kernelspec": {
   "display_name": "Python 3",
   "language": "python",
   "name": "python3"
  },
  "language_info": {
   "codemirror_mode": {
    "name": "ipython",
    "version": 3
   },
   "file_extension": ".py",
   "mimetype": "text/x-python",
   "name": "python",
   "nbconvert_exporter": "python",
   "pygments_lexer": "ipython3",
   "version": "3.11.11"
  }
 },
 "nbformat": 4,
 "nbformat_minor": 5
}
